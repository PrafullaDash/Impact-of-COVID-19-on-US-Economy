{
 "cells": [
  {
   "cell_type": "markdown",
   "metadata": {},
   "source": [
    "# Python DML Script to insert data into DEPA_Final_Project database"
   ]
  },
  {
   "cell_type": "code",
   "execution_count": 1,
   "metadata": {},
   "outputs": [],
   "source": [
    "#pip install  yahoofinancials "
   ]
  },
  {
   "cell_type": "code",
   "execution_count": 2,
   "metadata": {},
   "outputs": [],
   "source": [
    "import json\n",
    "import requests\n",
    "import csv\n",
    "import numpy as np\n",
    "import pandas as pd\n",
    "import datetime as dt\n",
    "import warnings\n",
    "warnings.filterwarnings(\"ignore\")\n",
    "import pymysql"
   ]
  },
  {
   "cell_type": "code",
   "execution_count": 3,
   "metadata": {},
   "outputs": [],
   "source": [
    "def connection():\n",
    "\n",
    "    # Open database connection\n",
    "     connection = pymysql.connect(\"104.198.192.82\",\"root\",\"Pr@X1nX1@$r1\",\"depa_final_project\" )\n",
    "   # connection = pymysql.connect(\"localhost\",\"root\",\"rootroot\",\"depa_final_project\" )\n",
    "     return connection\n",
    "\n"
   ]
  },
  {
   "cell_type": "code",
   "execution_count": 4,
   "metadata": {},
   "outputs": [],
   "source": [
    "connection = connection()"
   ]
  },
  {
   "cell_type": "code",
   "execution_count": 5,
   "metadata": {},
   "outputs": [],
   "source": [
    "def qry(sql):\n",
    "\n",
    "    df = pd.read_sql(sql, connection)\n",
    "\n",
    "    return df"
   ]
  },
  {
   "cell_type": "code",
   "execution_count": 7,
   "metadata": {},
   "outputs": [],
   "source": [
    "from dateutil.parser import parse\n",
    "from datetime import date\n",
    "\n",
    "today = date.today()\n",
    "today_date = parse(str(today)).strftime('%Y-%m-%d')"
   ]
  },
  {
   "cell_type": "markdown",
   "metadata": {},
   "source": [
    "## Insertion into numbers_small table"
   ]
  },
  {
   "cell_type": "code",
   "execution_count": 8,
   "metadata": {},
   "outputs": [],
   "source": [
    "numbers_small_sql = \"INSERT INTO numbers_small VALUES (0),(1),(2),(3),(4),(5),(6),(7),(8),(9);\"\n",
    "cursor = connection.cursor()\n",
    "cursor.execute(numbers_small_sql)\n",
    "connection.commit()\n",
    "cursor.close()"
   ]
  },
  {
   "cell_type": "markdown",
   "metadata": {},
   "source": [
    "## Insertion into numbers table"
   ]
  },
  {
   "cell_type": "code",
   "execution_count": 9,
   "metadata": {},
   "outputs": [],
   "source": [
    "numbers_sql = \"INSERT INTO numbers \\\n",
    "                    SELECT \\\n",
    "                    thousands.number * 1000 + hundreds.number * 100 + tens.number * 10 + ones.number \\\n",
    "                    FROM \\\n",
    "                    numbers_small thousands, \\\n",
    "                    numbers_small hundreds, \\\n",
    "                    numbers_small tens, \\\n",
    "                    numbers_small ones \\\n",
    "                    LIMIT 1000000;\"\n",
    "\n",
    "cursor = connection.cursor()\n",
    "cursor.execute(numbers_sql)\n",
    "connection.commit()\n",
    "cursor.close()"
   ]
  },
  {
   "cell_type": "markdown",
   "metadata": {},
   "source": [
    "## Insertion into calendar table"
   ]
  },
  {
   "cell_type": "code",
   "execution_count": 10,
   "metadata": {},
   "outputs": [],
   "source": [
    "calendar_sql = \"INSERT INTO calendar (date_id, date) \\\n",
    "               SELECT \\\n",
    "               number, \\\n",
    "               DATE_ADD('2010-01-01', \\\n",
    "               INTERVAL number DAY) \\\n",
    "               FROM \\\n",
    "               numbers \\\n",
    "               WHERE \\\n",
    "               DATE_ADD('2010-01-01', \\\n",
    "               INTERVAL number DAY) BETWEEN '2010-01-01' AND '2020-06-12' \\\n",
    "               ORDER BY number;\"\n",
    "\n",
    "cursor = connection.cursor()\n",
    "cursor.execute(calendar_sql)\n",
    "connection.commit()\n",
    "cursor.close()"
   ]
  },
  {
   "cell_type": "markdown",
   "metadata": {},
   "source": [
    "## Updating the calendar table to set the weekdays and weekends"
   ]
  },
  {
   "cell_type": "code",
   "execution_count": 11,
   "metadata": {},
   "outputs": [],
   "source": [
    "sql_updates = \"SET SQL_SAFE_UPDATES = 0;\"\n",
    "calendar_sql = \"UPDATE calendar \\\n",
    "                SET \\\n",
    "                timestamp = UNIX_TIMESTAMP(date), \\\n",
    "                day_of_week = DATE_FORMAT(date, '%W'), \\\n",
    "                weekend = IF(DATE_FORMAT(date, '%W') IN ('Saturday' , 'Sunday'), \\\n",
    "                'Weekend', \\\n",
    "                'Weekday'), \\\n",
    "                 month = DATE_FORMAT(date, '%M'), \\\n",
    "                 year = DATE_FORMAT(date, '%Y'), \\\n",
    "                 monthday = DATE_FORMAT(date, '%d');\"\n",
    "\n",
    "cursor = connection.cursor()\n",
    "cursor.execute(sql_updates)\n",
    "cursor.execute(calendar_sql)\n",
    "connection.commit()\n",
    "cursor.close()"
   ]
  },
  {
   "cell_type": "markdown",
   "metadata": {},
   "source": [
    "## Reading the csv and xlsx files "
   ]
  },
  {
   "cell_type": "code",
   "execution_count": 6,
   "metadata": {},
   "outputs": [],
   "source": [
    "sector = pd.read_excel('../data/sector_data.xlsx')\n",
    "employment_private_sector = pd.read_excel('../data/employment_private_sector_data.xlsx')\n",
    "industry = pd.read_excel('../data/industry_data.xlsx')\n",
    "employment_industry = pd.read_excel('../data/employment_industry_data.xlsx')\n",
    "industry_organization = pd.read_excel('../data/industry_organization.xlsx')\n",
    "retail_industry_code = pd.read_excel('../data/Retail_NAICS_Code.xlsx')\n",
    "retail_data_seasonal_adjusted = pd.read_excel('../data/retail_data_seasonal_adjusted.xlsx')\n",
    "stock_data = pd.read_csv('../data/stock_data.csv')\n",
    "covid19_data = pd.read_csv('../data/covid19_time_series_data.csv')\n",
    "covid19_us = pd.read_csv('../data/covid19_us_data.csv')\n",
    "\n"
   ]
  },
  {
   "cell_type": "markdown",
   "metadata": {},
   "source": [
    "## Insertion into sector table"
   ]
  },
  {
   "cell_type": "code",
   "execution_count": 13,
   "metadata": {},
   "outputs": [],
   "source": [
    "# create cursor\n",
    "cursor = connection.cursor()\n",
    "\n",
    "# creating column list for insertion\n",
    "cols = \"`,`\".join([str(i) for i in sector.columns.tolist()])\n",
    "\n",
    "# Insert DataFrame records one by one.\n",
    "for i,row in sector.iterrows():\n",
    "    sql = \"INSERT INTO `sector` (`\" +cols + \"`) VALUES (\" + \"%s,\"*(len(row)-1) + \"%s)\"\n",
    "    cursor.execute(sql, tuple(row))\n",
    "\n",
    "# commit to save changes\n",
    "connection.commit()\n",
    "cursor.close()"
   ]
  },
  {
   "cell_type": "markdown",
   "metadata": {},
   "source": [
    "## Insertion into industry table"
   ]
  },
  {
   "cell_type": "code",
   "execution_count": 14,
   "metadata": {},
   "outputs": [],
   "source": [
    "\n",
    "industry['create_date'] = today_date\n",
    "industry['last_modified_date'] = today_date\n",
    "industry['naics_code'] = industry['naics_code'].astype(str)\n",
    "\n",
    "# create cursor\n",
    "cursor = connection.cursor()\n",
    "\n",
    "# creating column list for insertion\n",
    "cols = \"`,`\".join([str(i) for i in industry.columns.tolist()])\n",
    "\n",
    "# Insert DataFrame records one by one.\n",
    "for i,row in industry.iterrows():\n",
    "    sql = \"INSERT INTO `industry` (`\" +cols + \"`) VALUES (\" + \"%s,\"*(len(row)-1) + \"%s)\"\n",
    "    cursor.execute(sql, tuple(row))\n",
    "\n",
    "# commit to save changes\n",
    "connection.commit()\n",
    "cursor.close()"
   ]
  },
  {
   "cell_type": "markdown",
   "metadata": {},
   "source": [
    "## data transformation and insertion into employment_industry table"
   ]
  },
  {
   "cell_type": "code",
   "execution_count": 15,
   "metadata": {},
   "outputs": [],
   "source": [
    "employment_industry['persons_employed'] = round(employment_industry['persons_employed'],3)\n",
    "employment_industry['change_prev_month_number'] = round(employment_industry['change_prev_month_number'],3)\n",
    "employment_industry['persons_employed']=employment_industry['persons_employed']*1000\n",
    "employment_industry['change_prev_month_number']=employment_industry['change_prev_month_number']*1000\n",
    "employment_industry['change_prev_month_number'] = employment_industry['change_prev_month_number'].astype(int)\n",
    "employment_industry['persons_employed'] = employment_industry['persons_employed'].astype(int)\n",
    "employment_industry['change_prev_month_percent'] = round(employment_industry['change_prev_month_percent'],2)"
   ]
  },
  {
   "cell_type": "code",
   "execution_count": 16,
   "metadata": {},
   "outputs": [],
   "source": [
    "# create cursor\n",
    "cursor = connection.cursor()\n",
    "\n",
    "# creating column list for insertion\n",
    "cols = \"`,`\".join([str(i) for i in employment_industry.columns.tolist()])\n",
    "\n",
    "# Insert DataFrame records one by one.\n",
    "for i,row in employment_industry.iterrows():\n",
    "    sql = \"INSERT INTO `employment_industry` (`\" +cols + \"`) VALUES (\" + \"%s,\"*(len(row)-1) + \"%s)\"\n",
    "    cursor.execute(sql, tuple(row))\n",
    "\n",
    "# commit to save changes\n",
    "connection.commit()\n",
    "cursor.close()"
   ]
  },
  {
   "cell_type": "markdown",
   "metadata": {},
   "source": [
    "## Insertion into organization table"
   ]
  },
  {
   "cell_type": "code",
   "execution_count": 17,
   "metadata": {},
   "outputs": [],
   "source": [
    "# create cursor\n",
    "cursor = connection.cursor()\n",
    "\n",
    "# creating column list for insertion\n",
    "cols = \"`,`\".join([str(i) for i in industry_organization.columns.tolist()])\n",
    "\n",
    "# Insert DataFrame records one by one.\n",
    "for i,row in industry_organization.iterrows():\n",
    "    sql = \"INSERT INTO `organization` (`\" +cols + \"`) VALUES (\" + \"%s,\"*(len(row)-1) + \"%s)\"\n",
    "    cursor.execute(sql, tuple(row))\n",
    "\n",
    "# commit to save changes\n",
    "connection.commit()"
   ]
  },
  {
   "cell_type": "code",
   "execution_count": 19,
   "metadata": {},
   "outputs": [],
   "source": [
    "sql= \"SELECT * from organization;\"\n",
    "df =qry(sql)\n"
   ]
  },
  {
   "cell_type": "markdown",
   "metadata": {},
   "source": [
    "## Reading the Organization Stock Data from Yahoo Financials API"
   ]
  },
  {
   "cell_type": "code",
   "execution_count": 20,
   "metadata": {},
   "outputs": [],
   "source": [
    "from yahoofinancials import YahooFinancials\n",
    "stock_codes=list(df.code)\n",
    "yahoo_financials_stocks= YahooFinancials(stock_codes)\n",
    "daily_stock_prices= (yahoo_financials_stocks.get_historical_price_data('2019-01-01', '2020-05-29', 'daily'))\n",
    "#daily_stock_prices"
   ]
  },
  {
   "cell_type": "markdown",
   "metadata": {},
   "source": [
    "## Insertion into organization_stock_data table"
   ]
  },
  {
   "cell_type": "code",
   "execution_count": 21,
   "metadata": {
    "scrolled": true
   },
   "outputs": [],
   "source": [
    "ticker_codes = daily_stock_prices.keys()\n",
    "\n",
    "\n",
    "for code in ticker_codes:\n",
    "    #print(code)\n",
    "    prices_list = daily_stock_prices.get(code).get('prices')\n",
    "    for price in prices_list:\n",
    "        cursor = connection.cursor()\n",
    "        date_sql = \"SELECT date_id from calendar where date='\"+price.get('formatted_date')+\"';\"\n",
    "        date_obj = qry(date_sql)  \n",
    "        date_obj = date_obj['date_id'][0]\n",
    "        #print(date_obj)\n",
    "        organization_sql = \"SELECT organization_id,code from organization where code='\"+code+\"';\"\n",
    "        organization = qry(organization_sql) \n",
    "        organization = organization['organization_id'][0]\n",
    "        #print(organization)\n",
    "       \n",
    "        sql = \"insert into organization_stock_data (`organization_id`,`date_id`,`open`,`high`,\\\n",
    "              `low`,`close`,`adj_close`,`volume`) values(\\\n",
    "             \"+str(organization)+\",\"+str(date_obj)+\",\"+str(price.get('open'))+\",\"+str(price.get('high'))+\",\"+str(price.get('low'))+\",\"+str(price.get('close'))+\",\"+str(price.get('adjclose'))+\",\"+str(price.get('volume'))+\");\"\n",
    "      \n",
    "        #print(sql)\n",
    "        cursor.execute(sql)\n",
    "        connection.commit()\n",
    "        cursor.close()\n",
    "\n",
    "\n",
    "         \n",
    "\n",
    "    \n",
    "   "
   ]
  },
  {
   "cell_type": "markdown",
   "metadata": {},
   "source": [
    "## Insertion into retail_breakdown_naics_code table"
   ]
  },
  {
   "cell_type": "code",
   "execution_count": 22,
   "metadata": {},
   "outputs": [],
   "source": [
    "retail_industry_code.rename(columns = {'industry_code':'naics_code','industry_name':'industry_title'}, inplace = True)\n",
    "retail_industry_code['create_date'] = today_date\n",
    "retail_industry_code['last_modified_date'] = today_date\n",
    "retail_industry_code['is_active'] = 'Y'\n",
    "\n",
    "\n",
    "# create cursor\n",
    "cursor = connection.cursor()\n",
    "\n",
    "# creating column list for insertion\n",
    "cols = \"`,`\".join([str(i) for i in retail_industry_code.columns.tolist()])\n",
    "\n",
    "# Insert DataFrame records one by one.\n",
    "for i,row in retail_industry_code.iterrows():\n",
    "    sql = \"INSERT INTO `retail_breakdown_naics_code` (`\" +cols + \"`) VALUES (\" + \"%s,\"*(len(row)-1) + \"%s)\"\n",
    "    cursor.execute(sql, tuple(row))\n",
    "\n",
    "# commit to save changes\n",
    "connection.commit()\n",
    "cursor.close()"
   ]
  },
  {
   "cell_type": "markdown",
   "metadata": {},
   "source": [
    "## Insertion into retail_data_seasonal_adjusted table"
   ]
  },
  {
   "cell_type": "code",
   "execution_count": 5,
   "metadata": {},
   "outputs": [],
   "source": [
    "retail_data_seasonal_adjusted = retail_data_seasonal_adjusted.where((pd.notnull(retail_data_seasonal_adjusted)), None)\n",
    "# create cursor\n",
    "cursor = connection.cursor()\n",
    "\n",
    "# creating column list for insertion\n",
    "cols = \"`,`\".join([str(i) for i in retail_data_seasonal_adjusted.columns.tolist()])\n",
    "\n",
    "# Insert DataFrame records one by one.\n",
    "for i,row in retail_data_seasonal_adjusted.iterrows():\n",
    "    sql = \"INSERT INTO `retail_data_seasonal_adjusted` (`\" +cols + \"`) VALUES (\" + \"%s,\"*(len(row)-1) + \"%s)\"\n",
    "    cursor.execute(sql, tuple(row))\n",
    "\n",
    "# commit to save changes\n",
    "connection.commit()\n",
    "cursor.close()\n"
   ]
  },
  {
   "cell_type": "markdown",
   "metadata": {},
   "source": [
    "## Insertion into employment_private_sector table"
   ]
  },
  {
   "cell_type": "code",
   "execution_count": 24,
   "metadata": {},
   "outputs": [],
   "source": [
    "# create cursor\n",
    "cursor = connection.cursor()\n",
    "\n",
    "# creating column list for insertion\n",
    "cols = \"`,`\".join([str(i) for i in employment_private_sector.columns.tolist()])\n",
    "\n",
    "# Insert DataFrame records one by one.\n",
    "for i,row in employment_private_sector.iterrows():\n",
    "    sql = \"INSERT INTO `employment_private_sector` (`\" +cols + \"`) VALUES (\" + \"%s,\"*(len(row)-1) + \"%s)\"\n",
    "    cursor.execute(sql, tuple(row))\n",
    "\n",
    "# commit to save changes\n",
    "connection.commit()\n",
    "cursor.close()"
   ]
  },
  {
   "cell_type": "markdown",
   "metadata": {},
   "source": [
    "## Insertion into sp500_stock_data table"
   ]
  },
  {
   "cell_type": "code",
   "execution_count": 25,
   "metadata": {},
   "outputs": [],
   "source": [
    "# create cursor\n",
    "cursor = connection.cursor()\n",
    "\n",
    "# creating column list for insertion\n",
    "cols = \"`,`\".join([str(i) for i in stock_data.columns.tolist()])\n",
    "\n",
    "# Insert DataFrame records one by one.\n",
    "for i,row in stock_data.iterrows():\n",
    "    sql = \"INSERT INTO `sp500_stock_data` (`\" +cols + \"`) VALUES (\" + \"%s,\"*(len(row)-1) + \"%s)\"\n",
    "    cursor.execute(sql, tuple(row))\n",
    "\n",
    "# commit to save changes\n",
    "connection.commit()\n",
    "cursor.close()"
   ]
  },
  {
   "cell_type": "markdown",
   "metadata": {},
   "source": [
    "### Insertion into covid19_time_series_us table"
   ]
  },
  {
   "cell_type": "code",
   "execution_count": 26,
   "metadata": {},
   "outputs": [],
   "source": [
    "# create cursor\n",
    "cursor = connection.cursor()\n",
    "\n",
    "# creating column list for insertion\n",
    "cols = \"`,`\".join([str(i) for i in covid19_data.columns.tolist()])\n",
    "\n",
    "# Insert DataFrame records one by one.\n",
    "for i,row in covid19_data.iterrows():\n",
    "    sql = \"INSERT INTO `covid19_time_series_us` (`\" +cols + \"`) VALUES (\" + \"%s,\"*(len(row)-1) + \"%s)\"\n",
    "    cursor.execute(sql, tuple(row))\n",
    "\n",
    "# commit to save changes\n",
    "connection.commit()\n",
    "cursor.close()"
   ]
  },
  {
   "cell_type": "markdown",
   "metadata": {},
   "source": [
    "### Insertion  into covid19_us table"
   ]
  },
  {
   "cell_type": "code",
   "execution_count": null,
   "metadata": {},
   "outputs": [],
   "source": [
    "# create cursor\n",
    "cursor = connection.cursor()\n",
    "\n",
    "# creating column list for insertion\n",
    "cols = \"`,`\".join([str(i) for i in covid19_us.columns.tolist()])\n",
    "\n",
    "# Insert DataFrame records one by one.\n",
    "for i,row in covid19_us.iterrows():\n",
    "    sql = \"INSERT INTO `covid19_us` (`\" +cols + \"`) VALUES (\" + \"%s,\"*(len(row)-1) + \"%s)\"\n",
    "    cursor.execute(sql, tuple(row))\n",
    "\n",
    "# commit to save changes\n",
    "connection.commit()\n",
    "cursor.close()"
   ]
  },
  {
   "cell_type": "code",
   "execution_count": 6,
   "metadata": {},
   "outputs": [],
   "source": [
    "connection.close()"
   ]
  }
 ],
 "metadata": {
  "kernelspec": {
   "display_name": "Python 3",
   "language": "python",
   "name": "python3"
  },
  "language_info": {
   "codemirror_mode": {
    "name": "ipython",
    "version": 3
   },
   "file_extension": ".py",
   "mimetype": "text/x-python",
   "name": "python",
   "nbconvert_exporter": "python",
   "pygments_lexer": "ipython3",
   "version": "3.7.3"
  }
 },
 "nbformat": 4,
 "nbformat_minor": 4
}
