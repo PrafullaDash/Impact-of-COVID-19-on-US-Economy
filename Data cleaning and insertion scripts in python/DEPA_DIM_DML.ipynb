{
 "cells": [
  {
   "cell_type": "markdown",
   "metadata": {},
   "source": [
    "# Python Script to insert data into datawarehouse"
   ]
  },
  {
   "cell_type": "code",
   "execution_count": 3,
   "metadata": {},
   "outputs": [],
   "source": [
    "import json\n",
    "import requests\n",
    "import csv\n",
    "import numpy as np\n",
    "import pandas as pd\n",
    "import datetime as dt\n",
    "import warnings\n",
    "warnings.filterwarnings(\"ignore\")\n",
    "import pymysql"
   ]
  },
  {
   "cell_type": "code",
   "execution_count": 8,
   "metadata": {},
   "outputs": [],
   "source": [
    "def connection():\n",
    "\n",
    "    # Open database connection\n",
    "     connection = pymysql.connect(\"104.198.192.82\",\"root\",\"Pr@X1nX1@$r1\",\"depa_final_project_dw\" )\n",
    "     return connection\n",
    "\n"
   ]
  },
  {
   "cell_type": "code",
   "execution_count": 9,
   "metadata": {},
   "outputs": [],
   "source": [
    "connection = connection()"
   ]
  },
  {
   "cell_type": "code",
   "execution_count": null,
   "metadata": {},
   "outputs": [],
   "source": [
    "def qry(sql):\n",
    "\n",
    "    df = pd.read_sql(sql, connection)\n",
    "\n",
    "    return df"
   ]
  },
  {
   "cell_type": "markdown",
   "metadata": {},
   "source": [
    "## Insertion into dim_calendar table"
   ]
  },
  {
   "cell_type": "code",
   "execution_count": null,
   "metadata": {},
   "outputs": [],
   "source": [
    "calendar_sql = \"INSERT INTO `depa_final_project_dw`.`dim_calendar` \\\n",
    "               ( `date_id`, \\\n",
    "                 `date`,  \\\n",
    "                 `timestamp`, \\\n",
    "                 `weekend`, \\\n",
    "                 `day_of_week`, \\\n",
    "                  `month`, \\\n",
    "                 `month_day`, \\\n",
    "                  `year`) \\\n",
    "                  (SELECT * from depa_final_project.calendar);\"\n",
    "\n",
    "cursor = connection.cursor()\n",
    "cursor.execute(calendar_sql)\n",
    "connection.commit()\n",
    "cursor.close()"
   ]
  },
  {
   "cell_type": "markdown",
   "metadata": {},
   "source": [
    "## Insertion into dim_organization_stock table"
   ]
  },
  {
   "cell_type": "code",
   "execution_count": null,
   "metadata": {},
   "outputs": [],
   "source": [
    "organization_stock_sql = \"INSERT INTO `depa_final_project_dw`.`dim_organization_stock`\\\n",
    "                (`organization_stock_id`, \\\n",
    "                 `date_id`, \\\n",
    "                 `organization_name`, \\\n",
    "                 `industry_title`, \\\n",
    "                  `adj_close`)\\\n",
    "                 (SELECT \\\n",
    "                  os.organization_stock_data_id, os.date_id,o.name,i.industry_title, os.adj_close\\\n",
    "                  FROM \\\n",
    "                  depa_final_project.organization_stock_data os, \\\n",
    "                  depa_final_project.organization o, \\\n",
    "                  depa_final_project.industry i \\\n",
    "                   WHERE \\\n",
    "                   os.organization_id = o.organization_id AND \\\n",
    "                    o.industry_id= i.industry_id);\"\n",
    "\n",
    "cursor = connection.cursor()\n",
    "cursor.execute(organization_stock_sql)\n",
    "connection.commit()\n",
    "cursor.close()"
   ]
  },
  {
   "cell_type": "markdown",
   "metadata": {},
   "source": [
    "## Insertion into dim_employment_industry table"
   ]
  },
  {
   "cell_type": "code",
   "execution_count": null,
   "metadata": {},
   "outputs": [],
   "source": [
    "employment_industry_sql = \"INSERT INTO `depa_final_project_dw`.`dim_employment_industry`\\\n",
    "                (`employment_industry_id`, \\\n",
    "                 `date_id`, \\\n",
    "                 `industry_id`, \\\n",
    "                 `industry_title`, \\\n",
    "                  `persons_employed`, \\\n",
    "                  `change_prev_month_percent`, \\\n",
    "                  `change_prev_month_number`) \\\n",
    "                 (SELECT \\\n",
    "                  employment_industry_id, date_id,i.industry_id,i.industry_title, persons_employed,change_prev_month_percent,change_prev_month_number\\\n",
    "                  FROM \\\n",
    "                  depa_final_project.employment_industry ei, \\\n",
    "                  depa_final_project.industry i \\\n",
    "                   WHERE \\\n",
    "                   i.industry_id = ei.industry_id);\"\n",
    "\n",
    "cursor = connection.cursor()\n",
    "cursor.execute(employment_industry_sql)\n",
    "connection.commit()\n",
    "cursor.close()"
   ]
  },
  {
   "cell_type": "markdown",
   "metadata": {},
   "source": [
    "## Insertion into dim_retail table"
   ]
  },
  {
   "cell_type": "code",
   "execution_count": null,
   "metadata": {},
   "outputs": [],
   "source": [
    "retail_sql = \"INSERT INTO `depa_final_project_dw`.`dim_retail` \\\n",
    "            (`retail_seasonal_adjusted_id`,`date_id`,\\\n",
    "            `retail_industry_id`, \\\n",
    "            `retail_industry_title`, \\\n",
    "            `sales`, \\\n",
    "            `inventory`,\\\n",
    "            `inventory_sales_ratio`\\\n",
    "             ) \\\n",
    "            (SELECT  \\\n",
    "            rd.retail_seasonal_adjusted_id,  \\\n",
    "            rd.date_id,  \\\n",
    "            rd.retail_industry_id,  \\\n",
    "            rb.industry_title,  \\\n",
    "            rd.sales,  \\\n",
    "            rd.inventory, \\\n",
    "            rd.`inventory_sales_ratio`\\ \n",
    "            FROM `depa_final_project`.`retail_data_seasonal_adjusted` rd ,\\\n",
    "            `depa_final_project`.`retail_breakdown_naics_code` rb \\\n",
    "            WHERE rd.retail_industry_id = rb.retail_industry_id \\\n",
    "            );\"\n",
    "\n",
    "cursor = connection.cursor()\n",
    "cursor.execute(employment_industry_sql)\n",
    "connection.commit()\n",
    "cursor.close()"
   ]
  },
  {
   "cell_type": "code",
   "execution_count": null,
   "metadata": {},
   "outputs": [],
   "source": [
    "sql= \"Select * from dim_retail\"\n",
    "df = qry(sql)\n",
    "df"
   ]
  },
  {
   "cell_type": "markdown",
   "metadata": {},
   "source": [
    "## Insertion into dim_snp500_stock table"
   ]
  },
  {
   "cell_type": "code",
   "execution_count": null,
   "metadata": {},
   "outputs": [],
   "source": [
    "cursor = connection.cursor()\n",
    "sql_stock = '''\n",
    "INSERT INTO depa_final_project_dw.dim_snp500_stock\n",
    "(snp500_stock_id, \n",
    "date_id, \n",
    "open, \n",
    "high, \n",
    "low, \n",
    "close,\n",
    "adj_close,\n",
    "volume)\n",
    "(SELECT \n",
    "stock_data_id, \n",
    "date_id, \n",
    "open, \n",
    "high, \n",
    "low, \n",
    "close,\n",
    "adj_close,\n",
    "volume\n",
    "FROM depa_final_project.sp500_stock_data)\n",
    "'''\n",
    "cursor.execute(sql_stock)\n",
    "\n",
    "connection.commit()\n",
    "cursor.close()"
   ]
  },
  {
   "cell_type": "markdown",
   "metadata": {},
   "source": [
    "## Insertion into fact_economy table"
   ]
  },
  {
   "cell_type": "code",
   "execution_count": 10,
   "metadata": {},
   "outputs": [],
   "source": [
    "cursor = connection.cursor()\n",
    "fact_economy_sql = '''\n",
    "insert into depa_final_project_dw.fact_economy (date_id,employment_industry_id,retail_seasonal_adjusted_id,snp500_stock_id,organization_stock_id,confirmed_covid_cases) \n",
    "(SELECT \n",
    "    dc.date_id,\n",
    "    dei.employment_industry_id,\n",
    "    dr.retail_seasonal_adjusted_id,\n",
    "    dss.snp500_stock_id,\n",
    "    dos.organization_stock_id,\n",
    "    ctsu.confirmed_cases\n",
    "FROM\n",
    "    depa_final_project_dw.dim_calendar dc\n",
    "        LEFT JOIN\n",
    "    depa_final_project_dw.dim_employment_industry dei ON dei.date_id = dc.date_id\n",
    "        LEFT JOIN\n",
    "    depa_final_project_dw.dim_retail dr ON dr.date_id = dc.date_id\n",
    "        LEFT JOIN\n",
    "    depa_final_project_dw.dim_snp500_stock dss ON dss.date_id = dc.date_id\n",
    "        LEFT JOIN\n",
    "    depa_final_project_dw.dim_organization_stock dos ON dos.date_id = dc.date_id\n",
    "        LEFT JOIN\n",
    "    depa_final_project.covid19_time_series_us ctsu ON ctsu.date_id = dc.date_id);\n",
    "'''\n",
    "cursor.execute(fact_economy_sql)\n",
    "\n",
    "connection.commit()\n",
    "cursor.close()"
   ]
  },
  {
   "cell_type": "code",
   "execution_count": 7,
   "metadata": {},
   "outputs": [],
   "source": [
    "connection.close()"
   ]
  }
 ],
 "metadata": {
  "kernelspec": {
   "display_name": "Python 3",
   "language": "python",
   "name": "python3"
  },
  "language_info": {
   "codemirror_mode": {
    "name": "ipython",
    "version": 3
   },
   "file_extension": ".py",
   "mimetype": "text/x-python",
   "name": "python",
   "nbconvert_exporter": "python",
   "pygments_lexer": "ipython3",
   "version": "3.7.3"
  }
 },
 "nbformat": 4,
 "nbformat_minor": 4
}
